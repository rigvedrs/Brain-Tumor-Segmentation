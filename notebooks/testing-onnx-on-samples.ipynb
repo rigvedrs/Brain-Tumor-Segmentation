{
 "cells": [
  {
   "cell_type": "code",
   "execution_count": 1,
   "id": "d44a9f64",
   "metadata": {},
   "outputs": [],
   "source": [
    "import os\n",
    "import glob\n",
    "import cv2\n",
    "from PIL import Image\n",
    "import numpy as np\n",
    "import pandas as pd\n",
    "import matplotlib.pyplot as plt\n",
    "%matplotlib inline\n",
    "import albumentations as A\n",
    "import onnxruntime"
   ]
  },
  {
   "cell_type": "markdown",
   "id": "6a168206",
   "metadata": {},
   "source": [
    "## Loading samples' path in a dataframe"
   ]
  },
  {
   "cell_type": "code",
   "execution_count": 2,
   "id": "deaae99e",
   "metadata": {},
   "outputs": [
    {
     "data": {
      "text/html": [
       "<div>\n",
       "<style scoped>\n",
       "    .dataframe tbody tr th:only-of-type {\n",
       "        vertical-align: middle;\n",
       "    }\n",
       "\n",
       "    .dataframe tbody tr th {\n",
       "        vertical-align: top;\n",
       "    }\n",
       "\n",
       "    .dataframe thead th {\n",
       "        text-align: right;\n",
       "    }\n",
       "</style>\n",
       "<table border=\"1\" class=\"dataframe\">\n",
       "  <thead>\n",
       "    <tr style=\"text-align: right;\">\n",
       "      <th></th>\n",
       "      <th>image_path</th>\n",
       "      <th>mask_path</th>\n",
       "      <th>diagnosis</th>\n",
       "    </tr>\n",
       "  </thead>\n",
       "  <tbody>\n",
       "    <tr>\n",
       "      <th>0</th>\n",
       "      <td>../test-samples/TCGA_CS_4942_19970222_11.tif</td>\n",
       "      <td>../test-samples/TCGA_CS_4942_19970222_11_mask.tif</td>\n",
       "      <td>1</td>\n",
       "    </tr>\n",
       "    <tr>\n",
       "      <th>1</th>\n",
       "      <td>../test-samples/TCGA_CS_4942_19970222_10.tif</td>\n",
       "      <td>../test-samples/TCGA_CS_4942_19970222_10_mask.tif</td>\n",
       "      <td>1</td>\n",
       "    </tr>\n",
       "    <tr>\n",
       "      <th>2</th>\n",
       "      <td>../test-samples/TCGA_CS_4941_19960909_15.tif</td>\n",
       "      <td>../test-samples/TCGA_CS_4941_19960909_15_mask.tif</td>\n",
       "      <td>1</td>\n",
       "    </tr>\n",
       "    <tr>\n",
       "      <th>3</th>\n",
       "      <td>../test-samples/TCGA_CS_4942_19970222_12.tif</td>\n",
       "      <td>../test-samples/TCGA_CS_4942_19970222_12_mask.tif</td>\n",
       "      <td>1</td>\n",
       "    </tr>\n",
       "  </tbody>\n",
       "</table>\n",
       "</div>"
      ],
      "text/plain": [
       "                                     image_path  \\\n",
       "0  ../test-samples/TCGA_CS_4942_19970222_11.tif   \n",
       "1  ../test-samples/TCGA_CS_4942_19970222_10.tif   \n",
       "2  ../test-samples/TCGA_CS_4941_19960909_15.tif   \n",
       "3  ../test-samples/TCGA_CS_4942_19970222_12.tif   \n",
       "\n",
       "                                           mask_path  diagnosis  \n",
       "0  ../test-samples/TCGA_CS_4942_19970222_11_mask.tif          1  \n",
       "1  ../test-samples/TCGA_CS_4942_19970222_10_mask.tif          1  \n",
       "2  ../test-samples/TCGA_CS_4941_19960909_15_mask.tif          1  \n",
       "3  ../test-samples/TCGA_CS_4942_19970222_12_mask.tif          1  "
      ]
     },
     "execution_count": 2,
     "metadata": {},
     "output_type": "execute_result"
    }
   ],
   "source": [
    "PATH = '../test-samples/'\n",
    "\n",
    "mask_files = glob.glob(PATH + '*_mask*')\n",
    "image_files = [file.replace('_mask', '') for file in mask_files]\n",
    "\n",
    "def diagnosis(mask_path):\n",
    "    return 1 if np.max(cv2.imread(mask_path)) > 0 else 0\n",
    "\n",
    "samples_df = pd.DataFrame({\"image_path\": image_files,\n",
    "                  \"mask_path\": mask_files,\n",
    "                  \"diagnosis\": [diagnosis(x) for x in mask_files]})\n",
    "\n",
    "samples_df"
   ]
  },
  {
   "cell_type": "markdown",
   "id": "b5843dfb",
   "metadata": {},
   "source": [
    "## Preprocessing Samples"
   ]
  },
  {
   "cell_type": "code",
   "execution_count": 3,
   "id": "16897cb3",
   "metadata": {},
   "outputs": [],
   "source": [
    "def load_sample(idx):\n",
    "    image = cv2.imread(samples_df.iloc[idx, 0])\n",
    "    image = (np.array(image).astype(np.float32))/255.\n",
    "    mask = cv2.imread(samples_df.iloc[idx, 1], 0)\n",
    "    \n",
    "    test_transform = A.Compose([\n",
    "                    A.Resize(width=128, height=128, p=1.0)\n",
    "                    ])\n",
    "    \n",
    "    aug = test_transform(image=image, mask=mask)\n",
    "    image = aug['image']\n",
    "    mask = aug['mask']\n",
    "            \n",
    "    image = image.transpose((2,0,1))\n",
    "    \n",
    "    #image normalize\n",
    "    mean_vec = np.array([0.485, 0.456, 0.406])\n",
    "    std_vec = np.array([0.229, 0.224, 0.225])\n",
    "\n",
    "    for i in range(image.shape[0]):\n",
    "        image[i, :, :] = (image[i, :, :] - mean_vec[i]) / (std_vec[i])\n",
    "    \n",
    "    \n",
    "    mask = np.expand_dims(mask, axis=-1).transpose((2,0,1))\n",
    "\n",
    "    return image, mask"
   ]
  },
  {
   "cell_type": "code",
   "execution_count": 4,
   "id": "4273382e",
   "metadata": {},
   "outputs": [],
   "source": [
    "test_img, test_mask = load_sample(3)"
   ]
  },
  {
   "cell_type": "code",
   "execution_count": 5,
   "id": "e75566cb",
   "metadata": {},
   "outputs": [
    {
     "data": {
      "text/plain": [
       "((3, 128, 128), (1, 128, 128))"
      ]
     },
     "execution_count": 5,
     "metadata": {},
     "output_type": "execute_result"
    }
   ],
   "source": [
    "test_img.shape, test_mask.shape"
   ]
  },
  {
   "cell_type": "markdown",
   "id": "195a6da7",
   "metadata": {},
   "source": [
    "## Creating batch of single image"
   ]
  },
  {
   "cell_type": "code",
   "execution_count": 6,
   "id": "45612281",
   "metadata": {},
   "outputs": [
    {
     "data": {
      "text/plain": [
       "(1, 3, 128, 128)"
      ]
     },
     "execution_count": 6,
     "metadata": {},
     "output_type": "execute_result"
    }
   ],
   "source": [
    "input_img = np.stack([test_img]*1)\n",
    "input_img.shape"
   ]
  },
  {
   "cell_type": "markdown",
   "id": "37704caa",
   "metadata": {},
   "source": [
    "## Loading the ONNX model"
   ]
  },
  {
   "cell_type": "code",
   "execution_count": 7,
   "id": "b0dcc683",
   "metadata": {},
   "outputs": [],
   "source": [
    "model_onnx = '../checkpoints/brain-mri-unet.onnx'\n",
    "\n",
    "session = onnxruntime.InferenceSession(model_onnx, None)\n",
    "input_name = session.get_inputs()[0].name\n",
    "output_name = session.get_outputs()[0].name"
   ]
  },
  {
   "cell_type": "markdown",
   "id": "53ece403",
   "metadata": {},
   "source": [
    "## Predicting"
   ]
  },
  {
   "cell_type": "code",
   "execution_count": 8,
   "id": "5be84cbf",
   "metadata": {},
   "outputs": [
    {
     "data": {
      "text/plain": [
       "[array([[[[4.8279762e-06, 8.1360340e-06, 2.8133392e-05, ...,\n",
       "           2.2470951e-05, 1.0699034e-05, 7.9870224e-06],\n",
       "          [3.2782555e-06, 3.7252903e-06, 2.4914742e-05, ...,\n",
       "           1.7642975e-05, 4.5001507e-06, 6.7949295e-06],\n",
       "          [1.7344952e-05, 3.6478043e-05, 5.3346157e-05, ...,\n",
       "           5.7518482e-05, 2.1249056e-05, 2.0086765e-05],\n",
       "          ...,\n",
       "          [2.5600195e-05, 2.8073788e-05, 2.6404858e-05, ...,\n",
       "           2.9861927e-05, 1.7762184e-05, 2.1457672e-05],\n",
       "          [2.5302172e-05, 2.0265579e-05, 1.5795231e-05, ...,\n",
       "           2.3424625e-05, 1.4752150e-05, 1.9222498e-05],\n",
       "          [2.5659800e-05, 2.1100044e-05, 1.8715858e-05, ...,\n",
       "           1.5109777e-05, 1.0699034e-05, 1.2695789e-05]]]], dtype=float32)]"
      ]
     },
     "execution_count": 8,
     "metadata": {},
     "output_type": "execute_result"
    }
   ],
   "source": [
    "result = session.run([output_name], {input_name: input_img})\n",
    "result"
   ]
  },
  {
   "cell_type": "code",
   "execution_count": 9,
   "id": "da2fb516",
   "metadata": {},
   "outputs": [
    {
     "data": {
      "text/plain": [
       "array([[0, 0, 0, ..., 0, 0, 0],\n",
       "       [0, 0, 0, ..., 0, 0, 0],\n",
       "       [0, 0, 0, ..., 0, 0, 0],\n",
       "       ...,\n",
       "       [0, 0, 0, ..., 0, 0, 0],\n",
       "       [0, 0, 0, ..., 0, 0, 0],\n",
       "       [0, 0, 0, ..., 0, 0, 0]], dtype=uint8)"
      ]
     },
     "execution_count": 9,
     "metadata": {},
     "output_type": "execute_result"
    }
   ],
   "source": [
    "arr = np.array(result).astype(np.float32)\n",
    "arr = arr * 255\n",
    "arr = arr[0, 0, 0, :, :].astype(np.uint8)\n",
    "arr"
   ]
  },
  {
   "cell_type": "code",
   "execution_count": 10,
   "id": "e99382b9",
   "metadata": {},
   "outputs": [
    {
     "data": {
      "text/plain": [
       "(5.561767578125, 1356.781951367855, 0, 254, (128, 128))"
      ]
     },
     "execution_count": 10,
     "metadata": {},
     "output_type": "execute_result"
    }
   ],
   "source": [
    "arr.mean(), arr.var(), arr.min(), arr.max(), arr.shape"
   ]
  },
  {
   "cell_type": "code",
   "execution_count": 11,
   "id": "0aebf24f",
   "metadata": {},
   "outputs": [
    {
     "data": {
      "text/plain": [
       "<matplotlib.colorbar.Colorbar at 0x7f6a0c112430>"
      ]
     },
     "execution_count": 11,
     "metadata": {},
     "output_type": "execute_result"
    },
    {
     "data": {
      "image/png": "[encoded data removed]",
      "text/plain": [
       "<Figure size 432x288 with 2 Axes>"
      ]
     },
     "metadata": {
      "needs_background": "light"
     },
     "output_type": "display_data"
    }
   ],
   "source": [
    "plt.imshow(arr)\n",
    "plt.colorbar()"
   ]
  },
  {
   "cell_type": "code",
   "execution_count": 12,
   "id": "72edde1a",
   "metadata": {},
   "outputs": [
    {
     "data": {
      "text/plain": [
       "<matplotlib.image.AxesImage at 0x7f69ec7d3ca0>"
      ]
     },
     "execution_count": 12,
     "metadata": {},
     "output_type": "execute_result"
    },
    {
     "data": {
      "image/png": "[encoded data removed]",
      "text/plain": [
       "<Figure size 432x288 with 1 Axes>"
      ]
     },
     "metadata": {
      "needs_background": "light"
     },
     "output_type": "display_data"
    }
   ],
   "source": [
    "maskimg = test_mask[0, :, :]\n",
    "plt.imshow(maskimg)"
   ]
  }
 ],
 "metadata": {
  "kernelspec": {
   "display_name": "Python 3 (ipykernel)",
   "language": "python",
   "name": "python3"
  },
  "language_info": {
   "codemirror_mode": {
    "name": "ipython",
    "version": 3
   },
   "file_extension": ".py",
   "mimetype": "text/x-python",
   "name": "python",
   "nbconvert_exporter": "python",
   "pygments_lexer": "ipython3",
   "version": "3.8.8"
  }
 },
 "nbformat": 4,
 "nbformat_minor": 5
}
