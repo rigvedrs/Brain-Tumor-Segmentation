{
 "cells": [
  {
   "cell_type": "code",
   "execution_count": 90,
   "id": "d44a9f64",
   "metadata": {},
   "outputs": [],
   "source": [
    "import os\n",
    "import glob\n",
    "import cv2\n",
    "from PIL import Image\n",
    "import numpy as np\n",
    "import pandas as pd\n",
    "import matplotlib.pyplot as plt\n",
    "%matplotlib inline\n",
    "import albumentations as A\n",
    "import onnxruntime"
   ]
  },
  {
   "cell_type": "markdown",
   "id": "6a168206",
   "metadata": {},
   "source": [
    "## Loading samples' path in a dataframe"
   ]
  },
  {
   "cell_type": "code",
   "execution_count": 91,
   "id": "deaae99e",
   "metadata": {},
   "outputs": [
    {
     "data": {
      "text/html": [
       "<div>\n",
       "<style scoped>\n",
       "    .dataframe tbody tr th:only-of-type {\n",
       "        vertical-align: middle;\n",
       "    }\n",
       "\n",
       "    .dataframe tbody tr th {\n",
       "        vertical-align: top;\n",
       "    }\n",
       "\n",
       "    .dataframe thead th {\n",
       "        text-align: right;\n",
       "    }\n",
       "</style>\n",
       "<table border=\"1\" class=\"dataframe\">\n",
       "  <thead>\n",
       "    <tr style=\"text-align: right;\">\n",
       "      <th></th>\n",
       "      <th>image_path</th>\n",
       "      <th>mask_path</th>\n",
       "      <th>diagnosis</th>\n",
       "    </tr>\n",
       "  </thead>\n",
       "  <tbody>\n",
       "    <tr>\n",
       "      <th>0</th>\n",
       "      <td>./test-samples/TCGA_CS_4942_19970222_11.tif</td>\n",
       "      <td>./test-samples/TCGA_CS_4942_19970222_11_mask.tif</td>\n",
       "      <td>1</td>\n",
       "    </tr>\n",
       "    <tr>\n",
       "      <th>1</th>\n",
       "      <td>./test-samples/TCGA_CS_4942_19970222_10.tif</td>\n",
       "      <td>./test-samples/TCGA_CS_4942_19970222_10_mask.tif</td>\n",
       "      <td>1</td>\n",
       "    </tr>\n",
       "    <tr>\n",
       "      <th>2</th>\n",
       "      <td>./test-samples/TCGA_CS_4941_19960909_15.tif</td>\n",
       "      <td>./test-samples/TCGA_CS_4941_19960909_15_mask.tif</td>\n",
       "      <td>1</td>\n",
       "    </tr>\n",
       "    <tr>\n",
       "      <th>3</th>\n",
       "      <td>./test-samples/TCGA_CS_4942_19970222_12.tif</td>\n",
       "      <td>./test-samples/TCGA_CS_4942_19970222_12_mask.tif</td>\n",
       "      <td>1</td>\n",
       "    </tr>\n",
       "  </tbody>\n",
       "</table>\n",
       "</div>"
      ],
      "text/plain": [
       "                                    image_path  \\\n",
       "0  ./test-samples/TCGA_CS_4942_19970222_11.tif   \n",
       "1  ./test-samples/TCGA_CS_4942_19970222_10.tif   \n",
       "2  ./test-samples/TCGA_CS_4941_19960909_15.tif   \n",
       "3  ./test-samples/TCGA_CS_4942_19970222_12.tif   \n",
       "\n",
       "                                          mask_path  diagnosis  \n",
       "0  ./test-samples/TCGA_CS_4942_19970222_11_mask.tif          1  \n",
       "1  ./test-samples/TCGA_CS_4942_19970222_10_mask.tif          1  \n",
       "2  ./test-samples/TCGA_CS_4941_19960909_15_mask.tif          1  \n",
       "3  ./test-samples/TCGA_CS_4942_19970222_12_mask.tif          1  "
      ]
     },
     "execution_count": 91,
     "metadata": {},
     "output_type": "execute_result"
    }
   ],
   "source": [
    "PATH = './test-samples/'\n",
    "\n",
    "\n",
    "\n",
    "mask_files = glob.glob(PATH + '*_mask*')\n",
    "image_files = [file.replace('_mask', '') for file in mask_files]\n",
    "\n",
    "def diagnosis(mask_path):\n",
    "    return 1 if np.max(cv2.imread(mask_path)) > 0 else 0\n",
    "\n",
    "samples_df = pd.DataFrame({\"image_path\": image_files,\n",
    "                  \"mask_path\": mask_files,\n",
    "                  \"diagnosis\": [diagnosis(x) for x in mask_files]})\n",
    "\n",
    "samples_df"
   ]
  },
  {
   "cell_type": "markdown",
   "id": "b5843dfb",
   "metadata": {},
   "source": [
    "## Preprocessing Samples"
   ]
  },
  {
   "cell_type": "code",
   "execution_count": 138,
   "id": "16897cb3",
   "metadata": {},
   "outputs": [],
   "source": [
    "def load_sample(idx):\n",
    "    image = cv2.imread(samples_df.iloc[idx, 0])\n",
    "    image = (np.array(image).astype(np.float32))/255.\n",
    "    mask = cv2.imread(samples_df.iloc[idx, 1], 0)\n",
    "#     mask = (np.array(mask).astype(np.float32))/255.\n",
    "    \n",
    "    test_transform = A.Compose([\n",
    "                    A.Resize(width=128, height=128, p=1.0)\n",
    "                    ])\n",
    "    \n",
    "    aug = test_transform(image=image, mask=mask)\n",
    "    image = aug['image']\n",
    "    mask = aug['mask']\n",
    "            \n",
    "    image = image.transpose((2,0,1))\n",
    "    \n",
    "    #image normalize\n",
    "    mean_vec = np.array([0.485, 0.456, 0.406])\n",
    "    std_vec = np.array([0.229, 0.224, 0.225])\n",
    "\n",
    "    for i in range(image.shape[0]):\n",
    "        image[i, :, :] = (image[i, :, :] - mean_vec[i]) / (std_vec[i])\n",
    "    \n",
    "    \n",
    "    mask = np.expand_dims(mask, axis=-1).transpose((2,0,1))\n",
    "\n",
    "    return image, mask"
   ]
  },
  {
   "cell_type": "code",
   "execution_count": 139,
   "id": "4273382e",
   "metadata": {},
   "outputs": [],
   "source": [
    "test_img, test_mask = load_sample(2)"
   ]
  },
  {
   "cell_type": "code",
   "execution_count": 140,
   "id": "e75566cb",
   "metadata": {},
   "outputs": [
    {
     "data": {
      "text/plain": [
       "(3, 128, 128)"
      ]
     },
     "execution_count": 140,
     "metadata": {},
     "output_type": "execute_result"
    }
   ],
   "source": [
    "test_img.shape"
   ]
  },
  {
   "cell_type": "markdown",
   "id": "195a6da7",
   "metadata": {},
   "source": [
    "## Creating batch of single image"
   ]
  },
  {
   "cell_type": "code",
   "execution_count": 141,
   "id": "45612281",
   "metadata": {},
   "outputs": [
    {
     "data": {
      "text/plain": [
       "(1, 3, 128, 128)"
      ]
     },
     "execution_count": 141,
     "metadata": {},
     "output_type": "execute_result"
    }
   ],
   "source": [
    "input_img = np.stack([test_img]*1)\n",
    "input_img.shape"
   ]
  },
  {
   "cell_type": "markdown",
   "id": "37704caa",
   "metadata": {},
   "source": [
    "## Loading the ONNX model"
   ]
  },
  {
   "cell_type": "code",
   "execution_count": 142,
   "id": "b0dcc683",
   "metadata": {},
   "outputs": [],
   "source": [
    "model_onnx = './checkpoints/brain-mri-unet.onnx'\n",
    "\n",
    "session = onnxruntime.InferenceSession(model_onnx, None)\n",
    "input_name = session.get_inputs()[0].name\n",
    "output_name = session.get_outputs()[0].name"
   ]
  },
  {
   "cell_type": "markdown",
   "id": "53ece403",
   "metadata": {},
   "source": [
    "## Predicting"
   ]
  },
  {
   "cell_type": "code",
   "execution_count": 143,
   "id": "5be84cbf",
   "metadata": {},
   "outputs": [
    {
     "data": {
      "text/plain": [
       "[array([[[[5.12599945e-06, 8.55326653e-06, 2.90870667e-05, ...,\n",
       "           1.80006027e-05, 9.59634781e-06, 7.45058060e-06],\n",
       "          [3.54647636e-06, 4.05311584e-06, 2.53915787e-05, ...,\n",
       "           1.39474869e-05, 3.96370888e-06, 6.04987144e-06],\n",
       "          [1.71065331e-05, 3.76403332e-05, 6.13331795e-05, ...,\n",
       "           5.33461571e-05, 1.85966492e-05, 1.66296959e-05],\n",
       "          ...,\n",
       "          [2.19941139e-05, 2.75373459e-05, 3.20672989e-05, ...,\n",
       "           2.93850899e-05, 1.47521496e-05, 1.88946724e-05],\n",
       "          [2.11596489e-05, 1.86264515e-05, 1.77323818e-05, ...,\n",
       "           2.17258930e-05, 1.21593475e-05, 1.66594982e-05],\n",
       "          [2.28285789e-05, 1.88648701e-05, 1.87158585e-05, ...,\n",
       "           1.39474869e-05, 9.38773155e-06, 1.12652779e-05]]]],\n",
       "       dtype=float32)]"
      ]
     },
     "execution_count": 143,
     "metadata": {},
     "output_type": "execute_result"
    }
   ],
   "source": [
    "result = session.run([output_name], {input_name: input_img})\n",
    "# prediction=(np.argmax(np.array(result).squeeze(), axis=0))\n",
    "# print(prediction)\n",
    "result"
   ]
  },
  {
   "cell_type": "code",
   "execution_count": 144,
   "id": "da2fb516",
   "metadata": {},
   "outputs": [
    {
     "data": {
      "text/plain": [
       "array([[[5.12599945e-06, 8.55326653e-06, 2.90870667e-05, ...,\n",
       "         1.80006027e-05, 9.59634781e-06, 7.45058060e-06],\n",
       "        [3.54647636e-06, 4.05311584e-06, 2.53915787e-05, ...,\n",
       "         1.39474869e-05, 3.96370888e-06, 6.04987144e-06],\n",
       "        [1.71065331e-05, 3.76403332e-05, 6.13331795e-05, ...,\n",
       "         5.33461571e-05, 1.85966492e-05, 1.66296959e-05],\n",
       "        ...,\n",
       "        [2.19941139e-05, 2.75373459e-05, 3.20672989e-05, ...,\n",
       "         2.93850899e-05, 1.47521496e-05, 1.88946724e-05],\n",
       "        [2.11596489e-05, 1.86264515e-05, 1.77323818e-05, ...,\n",
       "         2.17258930e-05, 1.21593475e-05, 1.66594982e-05],\n",
       "        [2.28285789e-05, 1.88648701e-05, 1.87158585e-05, ...,\n",
       "         1.39474869e-05, 9.38773155e-06, 1.12652779e-05]]], dtype=float32)"
      ]
     },
     "execution_count": 144,
     "metadata": {},
     "output_type": "execute_result"
    }
   ],
   "source": [
    "arr = np.array(result).astype(np.float32)\n",
    "arr = arr[0, 0, :, :, :]\n",
    "arr"
   ]
  },
  {
   "cell_type": "code",
   "execution_count": 136,
   "id": "e08dd2e1",
   "metadata": {},
   "outputs": [],
   "source": [
    "resultimg = Image.fromarray(arr.squeeze())\n",
    "resultimg.show()"
   ]
  },
  {
   "cell_type": "code",
   "execution_count": 145,
   "id": "72edde1a",
   "metadata": {},
   "outputs": [],
   "source": [
    "maskimg = test_mask[0, :, :]\n",
    "maskimg = Image.fromarray(maskimg)\n",
    "maskimg.show()"
   ]
  },
  {
   "cell_type": "code",
   "execution_count": null,
   "id": "a7956b55",
   "metadata": {},
   "outputs": [],
   "source": []
  }
 ],
 "metadata": {
  "kernelspec": {
   "display_name": "Python 3 (ipykernel)",
   "language": "python",
   "name": "python3"
  },
  "language_info": {
   "codemirror_mode": {
    "name": "ipython",
    "version": 3
   },
   "file_extension": ".py",
   "mimetype": "text/x-python",
   "name": "python",
   "nbconvert_exporter": "python",
   "pygments_lexer": "ipython3",
   "version": "3.8.8"
  }
 },
 "nbformat": 4,
 "nbformat_minor": 5
}
